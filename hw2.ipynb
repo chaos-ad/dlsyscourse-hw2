{
 "cells": [
  {
   "cell_type": "markdown",
   "metadata": {},
   "source": [
    "# 10-714 Homework 2\n",
    "\n",
    "In this homework, you will be implementing a neural network library in the needle framework. Reminder: __you must save a copy in drive__."
   ]
  },
  {
   "cell_type": "code",
   "execution_count": null,
   "metadata": {},
   "outputs": [],
   "source": [
    "# # Code to set up the assignment\n",
    "# from google.colab import drive\n",
    "# drive.mount('/content/drive')\n",
    "# %cd /content/drive/MyDrive/\n",
    "# !mkdir -p 10714\n",
    "# %cd /content/drive/MyDrive/10714\n",
    "# !git clone https://github.com/dlsys10714/hw2.git\n",
    "# %cd /content/drive/MyDrive/10714/hw2\n",
    "\n",
    "# !pip3 install --upgrade --no-deps git+https://github.com/dlsys10714/mugrade.git"
   ]
  },
  {
   "cell_type": "code",
   "execution_count": 1,
   "metadata": {
    "notebookRunGroups": {
     "groupValue": "1"
    }
   },
   "outputs": [
    {
     "data": {
      "text/plain": [
       "'/home/ec2-user/SageMaker/code/dlsyscourse-homework/hw2'"
      ]
     },
     "execution_count": 1,
     "metadata": {},
     "output_type": "execute_result"
    }
   ],
   "source": [
    "%pwd"
   ]
  },
  {
   "cell_type": "code",
   "execution_count": 2,
   "metadata": {
    "notebookRunGroups": {
     "groupValue": "1"
    }
   },
   "outputs": [
    {
     "name": "stdout",
     "output_type": "stream",
     "text": [
      "\u001b[0m\u001b[01;34mapps\u001b[0m/  \u001b[01;34mdata\u001b[0m/  \u001b[01;34mfigures\u001b[0m/  hw2.ipynb  \u001b[01;34mpython\u001b[0m/  README.md  \u001b[01;34mtests\u001b[0m/\n"
     ]
    }
   ],
   "source": [
    "%ls"
   ]
  },
  {
   "cell_type": "code",
   "execution_count": 3,
   "metadata": {
    "notebookRunGroups": {
     "groupValue": "1"
    }
   },
   "outputs": [
    {
     "data": {
      "text/plain": [
       "['/home/ec2-user/SageMaker/code/dlsyscourse-homework/hw2',\n",
       " '/home/ec2-user/SageMaker/.cs/conda/envs/codeserver_py39/lib/python39.zip',\n",
       " '/home/ec2-user/SageMaker/.cs/conda/envs/codeserver_py39/lib/python3.9',\n",
       " '/home/ec2-user/SageMaker/.cs/conda/envs/codeserver_py39/lib/python3.9/lib-dynload',\n",
       " '',\n",
       " '/home/ec2-user/SageMaker/.cs/conda/envs/codeserver_py39/lib/python3.9/site-packages']"
      ]
     },
     "execution_count": 3,
     "metadata": {},
     "output_type": "execute_result"
    }
   ],
   "source": [
    "import os\n",
    "import sys\n",
    "sys.path"
   ]
  },
  {
   "cell_type": "markdown",
   "metadata": {},
   "source": [
    "## Question 0\n",
    "\n",
    "This homework builds off of Homework 1. First, in your Homework 2 directory, go to the files `autograd.py`, `ops.py` in the `python/needle` directory, and fill in the code between `### BEGIN YOUR SOLUTION` and `### END YOUR SOLUTION` with your solutions from Homework 1. \n",
    "\n",
    "**Note:** We have added functionality since HW1, specifically in the `autograd.py` file, so it is important to copy over your solutions rather than the entire previous file."
   ]
  },
  {
   "cell_type": "code",
   "execution_count": 4,
   "metadata": {
    "notebookRunGroups": {
     "groupValue": "1"
    }
   },
   "outputs": [
    {
     "data": {
      "text/plain": [
       "['/home/ec2-user/SageMaker/code/dlsyscourse-homework/hw2',\n",
       " '/home/ec2-user/SageMaker/.cs/conda/envs/codeserver_py39/lib/python39.zip',\n",
       " '/home/ec2-user/SageMaker/.cs/conda/envs/codeserver_py39/lib/python3.9',\n",
       " '/home/ec2-user/SageMaker/.cs/conda/envs/codeserver_py39/lib/python3.9/lib-dynload',\n",
       " '',\n",
       " '/home/ec2-user/SageMaker/.cs/conda/envs/codeserver_py39/lib/python3.9/site-packages',\n",
       " '/home/ec2-user/SageMaker/code/dlsyscourse-homework/hw2/python',\n",
       " '/home/ec2-user/SageMaker/code/dlsyscourse-homework/hw2/apps']"
      ]
     },
     "execution_count": 4,
     "metadata": {},
     "output_type": "execute_result"
    }
   ],
   "source": [
    "sys.path.append(os.path.join(os.getcwd(), \"python\"))\n",
    "sys.path.append(os.path.join(os.getcwd(), \"apps\"))\n",
    "sys.path"
   ]
  },
  {
   "cell_type": "code",
   "execution_count": 6,
   "metadata": {
    "notebookRunGroups": {
     "groupValue": "1"
    }
   },
   "outputs": [],
   "source": [
    "import numpy as np\n",
    "import needle as ndl\n",
    "import apps.mlp_resnet\n",
    "\n",
    "%load_ext autoreload\n",
    "%autoreload 1\n",
    "%aimport needle\n",
    "%aimport needle.nn\n",
    "%aimport needle.ops\n",
    "%aimport needle.init\n",
    "%aimport needle.data\n",
    "%aimport needle.optim\n",
    "%aimport needle.autograd\n",
    "%aimport apps.mlp_resnet"
   ]
  },
  {
   "cell_type": "markdown",
   "metadata": {
    "tags": []
   },
   "source": [
    "## Question 1\n",
    "\n",
    "In this first question, you will implement a few different methods for weight initialization.  This will be done in the `python/needle/init.py` file, which contains a number of routines for initializing needle Tensors using various random and constant initializations.  Following the same methodology of the existing initializers (you will want to call e.g. `init.rand` or `init.randn` from your functions below, implement the following common initialization methods.  In all cases, the functions should return `fan_in` by `fan_out` 2D tensors (extensions to other sizes can be done via e.g., reshaping).\n",
    "\n",
    "\n",
    "### Xavier uniform\n",
    "`xavier_uniform(in, out, gain=1.0, **kwargs)`\n",
    "\n",
    "Fills the input Tensor with values according to the method described in [Understanding the difficulty of training deep feedforward neural networks](https://proceedings.mlr.press/v9/glorot10a/glorot10a.pdf), using a uniform distribution. The resulting Tensor will have values sampled from $\\mathcal{U}(-a, a)$ where \n",
    "\\begin{equation}\n",
    "a = \\text{gain} \\times \\sqrt{\\frac{6}{in + out}}\n",
    "\\end{equation}\n",
    "\n",
    "Pass remaining `**kwargs` parameters to the corresponding `init` random call.\n",
    "\n",
    "##### Parameters\n",
    "- `in` - dimensionality of input\n",
    "- `out` - dimensionality of output\n",
    "- `gain` - optional scaling factor\n",
    "___\n",
    "\n",
    "### Xavier normal\n",
    "`xavier_normal(in, out, gain=1.0, **kwargs)`\n",
    "\n",
    "Fills the input Tensor with values according to the method described in [Understanding the difficulty of training deep feedforward neural networks](https://proceedings.mlr.press/v9/glorot10a/glorot10a.pdf), using a normal distribution. The resulting Tensor will have values sampled from $\\mathcal{N}(0, \\text{std}^2)$ where \n",
    "\\begin{equation}\n",
    "\\text{std} = \\text{gain} \\times \\sqrt{\\frac{2}{in + out}}\n",
    "\\end{equation}\n",
    "\n",
    "##### Parameters\n",
    "- `in` - dimensionality of input\n",
    "- `out` - dimensionality of output\n",
    "- `gain` - optional scaling factor\n",
    "___\n",
    "\n",
    "### Kaiming uniform\n",
    "`kaiming_uniform(in, out, nonlinearity=\"relu\", **kwargs)`\n",
    "\n",
    "Fills the input Tensor with values according to the method described in [Delving deep into rectifiers: Surpassing human-level performance on ImageNet classification](https://arxiv.org/pdf/1502.01852.pdf), using a uniform distribution. The resulting Tensor will have values sampled from $\\mathcal{U}(-\\text{bound}, \\text{bound})$ where \n",
    "\\begin{equation}\n",
    "\\text{bound} = \\text{gain} \\times \\sqrt{\\frac{3}{in}}\n",
    "\\end{equation}\n",
    "\n",
    "Use the recommended gain value for ReLU: $\\text{gain}=\\sqrt{2}$.\n",
    "\n",
    "##### Parameters\n",
    "- `in` - dimensionality of input\n",
    "- `out` - dimensionality of output\n",
    "- `nonlinearity` - the non-linear function\n",
    "___\n",
    "\n",
    "### Kaiming normal\n",
    "`kaiming_normal(in, out, nonlinearity=\"relu\", **kwargs)`\n",
    "\n",
    "Fills the input Tensor with values according to the method described in [Delving deep into rectifiers: Surpassing human-level performance on ImageNet classification](https://arxiv.org/pdf/1502.01852.pdf), using a uniform distribution. The resulting Tensor will have values sampled from $\\mathcal{N}(0, \\text{std}^2)$ where \n",
    "\\begin{equation}\n",
    "\\text{std} = \\frac{\\text{gain}}{\\sqrt{in}}\n",
    "\\end{equation}\n",
    "\n",
    "Use the recommended gain value for ReLU: $\\text{gain}=\\sqrt{2}$.\n",
    "\n",
    "##### Parameters\n",
    "- `in` - dimensionality of input\n",
    "- `out` - dimensionality of output\n",
    "- `nonlinearity` - the non-linear function"
   ]
  },
  {
   "cell_type": "code",
   "execution_count": 8,
   "metadata": {},
   "outputs": [
    {
     "name": "stdout",
     "output_type": "stream",
     "text": [
      "\u001b[1m============================= test session starts ==============================\u001b[0m\n",
      "platform linux -- Python 3.9.13, pytest-7.2.0, pluggy-1.0.0 -- /home/ec2-user/SageMaker/.cs/conda/envs/codeserver_py39/bin/python3\n",
      "cachedir: .pytest_cache\n",
      "rootdir: /home/ec2-user/SageMaker/code/dlsyscourse-homework/hw2\n",
      "collected 90 items / 86 deselected / 4 selected                                \u001b[0m\n",
      "\n",
      "tests/test_nn_and_optim.py::test_init_kaiming_uniform \u001b[32mPASSED\u001b[0m\u001b[32m             [ 25%]\u001b[0m\n",
      "tests/test_nn_and_optim.py::test_init_kaiming_normal \u001b[32mPASSED\u001b[0m\u001b[32m              [ 50%]\u001b[0m\n",
      "tests/test_nn_and_optim.py::test_init_xavier_uniform \u001b[32mPASSED\u001b[0m\u001b[32m              [ 75%]\u001b[0m\n",
      "tests/test_nn_and_optim.py::test_init_xavier_normal \u001b[32mPASSED\u001b[0m\u001b[32m               [100%]\u001b[0m\n",
      "\n",
      "\u001b[32m======================= \u001b[32m\u001b[1m4 passed\u001b[0m, \u001b[33m86 deselected\u001b[0m\u001b[32m in 0.47s\u001b[0m\u001b[32m =======================\u001b[0m\n"
     ]
    }
   ],
   "source": [
    "!python3 -m pytest -v -k \"test_init\""
   ]
  },
  {
   "cell_type": "code",
   "execution_count": 26,
   "metadata": {},
   "outputs": [],
   "source": [
    "MUGRADER_GRADE_KEY = \"test123\""
   ]
  },
  {
   "cell_type": "code",
   "execution_count": 31,
   "metadata": {},
   "outputs": [
    {
     "name": "stdout",
     "output_type": "stream",
     "text": [
      "submit\n",
      "\u001b[1m============================= test session starts ==============================\u001b[0m\n",
      "platform linux -- Python 3.9.13, pytest-7.2.0, pluggy-1.0.0\n",
      "rootdir: /home/ec2-user/SageMaker/code/dlsyscourse-homework/hw2\n",
      "collected 18 items / 17 deselected / 1 selected                                \u001b[0m\n",
      "\n",
      "tests/test_nn_and_optim.py \u001b[31mF\u001b[0m\n",
      "\n",
      "=================================== FAILURES ===================================\n",
      "\u001b[31m\u001b[1m_________________________________ submit_init __________________________________\u001b[0m\n",
      "\n",
      "pyfuncitem = <Function submit_init>\n",
      "\n",
      "    \u001b[37m@pytest\u001b[39;49;00m.hookimpl(hookwrapper=\u001b[94mTrue\u001b[39;49;00m)\n",
      "    \u001b[94mdef\u001b[39;49;00m \u001b[92mpytest_pyfunc_call\u001b[39;49;00m(pyfuncitem):\n",
      "        \u001b[90m## prior to test, initialize submission\u001b[39;49;00m\n",
      "        \u001b[94mglobal\u001b[39;49;00m _values, _submission_key, _errors\n",
      "        _values = []\n",
      "        _errors = \u001b[94m0\u001b[39;49;00m\n",
      "        func_name = pyfuncitem.name[\u001b[94m7\u001b[39;49;00m:]\n",
      "        \u001b[94mif\u001b[39;49;00m os.environ[\u001b[33m\"\u001b[39;49;00m\u001b[33mMUGRADE_OP\u001b[39;49;00m\u001b[33m\"\u001b[39;49;00m] == \u001b[33m\"\u001b[39;49;00m\u001b[33msubmit\u001b[39;49;00m\u001b[33m\"\u001b[39;49;00m:\n",
      ">           _submission_key = start_submission(func_name)\n",
      "\n",
      "\u001b[1m\u001b[31m../../../.cs/conda/envs/codeserver_py39/lib/python3.9/site-packages/mugrade/mugrade.py\u001b[0m:164: \n",
      "_ _ _ _ _ _ _ _ _ _ _ _ _ _ _ _ _ _ _ _ _ _ _ _ _ _ _ _ _ _ _ _ _ _ _ _ _ _ _ _ \n",
      "\n",
      "func_name = 'init'\n",
      "\n",
      "    \u001b[94mdef\u001b[39;49;00m \u001b[92mstart_submission\u001b[39;49;00m(func_name):\n",
      "        \u001b[33m\"\"\" Begin a submisssion to the mugrade server \"\"\"\u001b[39;49;00m\n",
      "    \n",
      "        server_url, protocol = get_server_url_protocol(os.environ[\u001b[33m\"\u001b[39;49;00m\u001b[33mMUGRADE_KEY\u001b[39;49;00m\u001b[33m\"\u001b[39;49;00m])\n",
      "        response = requests.post(server_url + \u001b[33m\"\u001b[39;49;00m\u001b[33msubmission\u001b[39;49;00m\u001b[33m\"\u001b[39;49;00m,\n",
      "                                 params = {\u001b[33m\"\u001b[39;49;00m\u001b[33muser_key\u001b[39;49;00m\u001b[33m\"\u001b[39;49;00m: os.environ[\u001b[33m\"\u001b[39;49;00m\u001b[33mMUGRADE_KEY\u001b[39;49;00m\u001b[33m\"\u001b[39;49;00m],\n",
      "                                           \u001b[33m\"\u001b[39;49;00m\u001b[33mfunc_name\u001b[39;49;00m\u001b[33m\"\u001b[39;49;00m: func_name},\n",
      "                                 verify=\u001b[94mFalse\u001b[39;49;00m)\n",
      "    \n",
      "    \n",
      "        \u001b[94mif\u001b[39;49;00m response.status_code != \u001b[94m200\u001b[39;49;00m:\n",
      "            \u001b[94mraise\u001b[39;49;00m \u001b[96mException\u001b[39;49;00m(\u001b[33mf\u001b[39;49;00m\u001b[33m\"\u001b[39;49;00m\u001b[33mError : \u001b[39;49;00m\u001b[33m{\u001b[39;49;00mresponse.text\u001b[33m}\u001b[39;49;00m\u001b[33m\"\u001b[39;49;00m)\n",
      ">       \u001b[94mreturn\u001b[39;49;00m response.json()[\u001b[33m\"\u001b[39;49;00m\u001b[33msubmission_key\u001b[39;49;00m\u001b[33m\"\u001b[39;49;00m]\n",
      "\u001b[1m\u001b[31mE       KeyError: 'submission_key'\u001b[0m\n",
      "\n",
      "\u001b[1m\u001b[31m../../../.cs/conda/envs/codeserver_py39/lib/python3.9/site-packages/mugrade/mugrade.py\u001b[0m:103: KeyError\n",
      "\u001b[36m\u001b[1m=========================== short test summary info ============================\u001b[0m\n",
      "\u001b[31mFAILED\u001b[0m tests/test_nn_and_optim.py::\u001b[1msubmit_init\u001b[0m - KeyError: 'submission_key'\n",
      "\u001b[31m======================= \u001b[31m\u001b[1m1 failed\u001b[0m, \u001b[33m17 deselected\u001b[0m\u001b[31m in 1.08s\u001b[0m\u001b[31m =======================\u001b[0m\n"
     ]
    }
   ],
   "source": [
    "!python -m mugrade submit $MUGRADER_GRADE_KEY -k \"init\" -s"
   ]
  },
  {
   "cell_type": "markdown",
   "metadata": {},
   "source": [
    "## Question 2\n",
    "\n",
    "In this question, you will implement additional modules in `python/needle/nn.py`. Specifically, for the following modules described below, initialize any variables of the module in the constructor, and fill out the `forward` method. \n",
    "___\n",
    "\n",
    "### Linear\n",
    "`needle.nn.Linear(in_features, out_features, bias=True, device=None, dtype=\"float32\")`\n",
    "\n",
    "Applies a linear transformation to the incoming data: $y = xA^T + b$. The input shape is $(N, H_{in})$ where $H_{in}=\\text{in features}$. The output shape is $(N, H_{out})$ where $H_{out}=\\text{out features}$.\n",
    "\n",
    "Be careful to explicitly broadcast the bias term to the correct shape -- Needle does not support implicit broadcasting.\n",
    "\n",
    "Additionally note that, for all layers including this one, you should initialize the weight Tensor before the bias Tensor, and should initialize all Parameters using only functions from 'init'.\n",
    "\n",
    "##### Parameters\n",
    "- `in_features` - size of each input sample\n",
    "- `out_features` - size of each output sample\n",
    "- `bias` - If set to `False`, the layer will not learn an additive bias.\n",
    "\n",
    "##### Variables\n",
    "- `weight` - the learnable weights of shape (`in_features`, `out_features`). The values should be initialized with the Kaiming Uniform initialization with `fan_in = in_features`\n",
    "- `bias` - the learnable bias of shape (`out_features`). The values should be initialized with the Kaiming Uniform initialize with `fan_in = out_features`. **Note the different in fan_in choice, due to their relative sizes**. "
   ]
  },
  {
   "cell_type": "markdown",
   "metadata": {},
   "source": [
    "#### Debug:"
   ]
  },
  {
   "cell_type": "code",
   "execution_count": null,
   "metadata": {},
   "outputs": [],
   "source": [
    "# import numpy as np\n",
    "\n",
    "# \"\"\"Deterministically generate a matrix\"\"\"\n",
    "# def get_tensor(*shape, entropy=1):\n",
    "#     np.random.seed(np.prod(shape) * len(shape) * entropy)\n",
    "#     return ndl.Tensor(np.random.randint(0, 100, size=shape) / 20, dtype=\"float32\")\n",
    "\n",
    "# def linear_forward(lhs_shape, rhs_shape):\n",
    "#     np.random.seed(199)\n",
    "#     f = ndl.nn.Linear(*lhs_shape)\n",
    "#     f.bias.data = get_tensor(lhs_shape[-1])\n",
    "#     x = get_tensor(*rhs_shape)\n",
    "#     return f(x).cached_data\n",
    "\n",
    "# def linear_backward(lhs_shape, rhs_shape):\n",
    "#     np.random.seed(199)\n",
    "#     f = ndl.nn.Linear(*lhs_shape)\n",
    "#     f.bias.data = get_tensor(lhs_shape[-1])\n",
    "#     x = get_tensor(*rhs_shape)\n",
    "#     (f(x)**2).sum().backward()\n",
    "#     return x.grad.cached_data\n",
    "\n",
    "# test_result = linear_forward((10, 5), (1, 10))\n",
    "# test_result"
   ]
  },
  {
   "cell_type": "code",
   "execution_count": null,
   "metadata": {},
   "outputs": [],
   "source": [
    "# # def test_nn_linear_forward_1():\n",
    "# np.testing.assert_allclose(\n",
    "#     linear_forward((10, 5), (1, 10)),\n",
    "#     np.array([[3.849948, 9.50499 , 2.38029 , 5.572587, 5.668391]],\n",
    "#         dtype=np.float32), rtol=1e-5, atol=1e-5\n",
    "# )\n",
    "\n",
    "# # def test_nn_linear_forward_2():\n",
    "# np.testing.assert_allclose(linear_forward((10, 5), (3, 10)),\n",
    "#     np.array([[ 7.763089, 10.086785,  0.380316,  6.242502,  6.944664],\n",
    "#             [ 2.548275,  7.747925,  5.343155,  2.065694,  9.871243],\n",
    "#             [ 2.871696,  7.466332,  4.236925,  2.461897,  8.209476]],\n",
    "#         dtype=np.float32), rtol=1e-5, atol=1e-5)\n",
    "\n",
    "# # def test_nn_linear_forward_3():\n",
    "# np.testing.assert_allclose(linear_forward((10, 5), (1, 3, 10)),\n",
    "#     np.array([[[ 4.351459,  8.782808,  3.935711,  3.03171 ,  8.014219],\n",
    "#             [ 5.214458,  8.728788,  2.376814,  5.672185,  4.974319],\n",
    "#             [ 1.343204,  8.639378,  2.604359, -0.282955,  9.864498]]],\n",
    "#         dtype=np.float32), rtol=1e-5, atol=1e-5)\n",
    "\n",
    "# # def test_nn_linear_backward_1():\n",
    "# np.testing.assert_allclose(linear_backward((10, 5), (1, 10)),\n",
    "#     np.array([[ 20.61148,   6.920893,  -1.625556, -13.497676,  -6.672813,\n",
    "#             18.762121,   7.286628,   8.18535 ,   2.741301,   5.723689]],\n",
    "#         dtype=np.float32), rtol=1e-5, atol=1e-5)\n",
    "\n",
    "# # def test_nn_linear_backward_2():\n",
    "# print(linear_backward((10, 5), (3, 10)))\n",
    "# np.testing.assert_allclose(linear_backward((10, 5), (3, 10)),\n",
    "#     np.array([[ 24.548800,    8.775347 ,   4.387898 , -21.248514,   -3.9669373,\n",
    "#     24.256767, 6.3171115,   6.029777 ,   0.8809935,   3.5995162],\n",
    "#     [ 12.233745,   -3.792646 ,  -4.1903896,  -5.106719,  -12.004269 ,  11.967942, 11.939469,\n",
    "# 19.314493,   10.631226,   14.510731 ],\n",
    "#     [ 12.920014,   -1.4545978,  -3.0892954,  -6.762379,   -9.713004 ,\n",
    "#         12.523148, 9.904757 ,  15.442993 ,   8.044141 ,  11.4106865]], dtype=np.float32), rtol=1e-5, atol=1e-5)\n",
    "\n",
    "# # def test_nn_linear_backward_3():\n",
    "# print(linear_backward((10, 5), (1, 3, 10)))\n",
    "# np.testing.assert_allclose(linear_backward((10, 5), (1, 3, 10)),\n",
    "#     np.array([[[ 16.318823,    0.3890714,  -2.3196607, -10.607947 ,  -8.891977,\n",
    "# 16.04581 ,    9.475689 ,  14.571134 ,   6.581477 ,  10.204643 ],\n",
    "# [ 20.291656,    7.48733  ,   1.2581345, -14.285493 ,  -6.0252004,\n",
    "# 19.621624,    4.343303 ,   6.973201 ,  -0.8103489,   4.037069 ],\n",
    "# [ 11.332953,   -5.698288 ,  -8.815561 ,  -7.673438 ,  -7.6161675,\n",
    "#     9.361553,   17.341637 ,  17.269142 ,  18.1076   ,  14.261493 ]]], dtype=np.float32), rtol=1e-5, atol=1e-5)"
   ]
  },
  {
   "cell_type": "markdown",
   "metadata": {},
   "source": [
    "#### Submitting:"
   ]
  },
  {
   "cell_type": "code",
   "execution_count": null,
   "metadata": {},
   "outputs": [],
   "source": [
    "!python3 -m pytest -v -k \"test_nn_linear\""
   ]
  },
  {
   "cell_type": "code",
   "execution_count": null,
   "metadata": {},
   "outputs": [],
   "source": [
    "!python -m mugrade submit $MUGRADER_GRADE_KEY -k \"nn_linear\""
   ]
  },
  {
   "cell_type": "markdown",
   "metadata": {},
   "source": [
    "### ReLU\n",
    "`needle.nn.ReLU()`\n",
    "\n",
    "Applies the rectified linear unit function element-wise:\n",
    "$ReLU(x) = max(0, x)$.\n",
    "\n",
    "If you have previously implemented ReLU's backwards pass in terms of itself, note that this is numerically unstable and will likely cause problems\n",
    "down the line.\n",
    "Instead, consider that we could write the derivative of ReLU as $I\\{x>0\\}$, where we arbitrarily decide that the derivative at $x=0$ is 0.\n",
    "(This is a _subdifferentiable_ function.)\n",
    "\n",
    "___"
   ]
  },
  {
   "cell_type": "code",
   "execution_count": null,
   "metadata": {},
   "outputs": [],
   "source": [
    "!python3 -m pytest -v -k \"test_nn_relu\""
   ]
  },
  {
   "cell_type": "code",
   "execution_count": null,
   "metadata": {},
   "outputs": [],
   "source": [
    "!python -m mugrade submit $MUGRADER_GRADE_KEY -k \"nn_relu\""
   ]
  },
  {
   "cell_type": "markdown",
   "metadata": {
    "tags": []
   },
   "source": [
    "### Sequential\n",
    "`needle.nn.Sequential(*modules)`\n",
    "\n",
    "Applies a sequence of modules to the input (in the order that they were passed to the constructor) and returns the output of the last module.\n",
    "These should be kept in a `.module` property: you should _not_ redefine any magic methods like `__getitem__`, as this may not be compatible with our tests.\n",
    "\n",
    "##### Parameters\n",
    "- `*modules` - any number of modules of type `needle.nn.Module`\n",
    "\n",
    "___"
   ]
  },
  {
   "cell_type": "code",
   "execution_count": null,
   "metadata": {},
   "outputs": [],
   "source": [
    "!python3 -m pytest -v -k \"test_nn_sequential\""
   ]
  },
  {
   "cell_type": "code",
   "execution_count": null,
   "metadata": {},
   "outputs": [],
   "source": [
    "!python -m mugrade submit $MUGRADER_GRADE_KEY -k \"nn_sequential\""
   ]
  },
  {
   "cell_type": "markdown",
   "metadata": {
    "tags": []
   },
   "source": [
    "### LogSumExp\n",
    "\n",
    "`needle.ops.LogSumExp(axes)`\n",
    "\n",
    "Here you will need to implement one additional operatior in the `python/ops.py` file, as you did in HW1. Applies a numerically stable log-sum-exp function to the input by subtracting off the maximum elements.\n",
    "\n",
    "\\begin{equation}\n",
    "\\text{LogSumExp}(z) = \\log (\\sum_{i} \\exp (z_i - \\max{z})) + \\max{z}\n",
    "\\end{equation}\n",
    "\n",
    "#### Parameters\n",
    "- `axes` - Tuple of axes to sum and take the maximum element over. This uses the same conventions as `needle.ops.Summation()`\n",
    "\n",
    "___"
   ]
  },
  {
   "cell_type": "markdown",
   "metadata": {},
   "source": [
    "#### Debug:"
   ]
  },
  {
   "cell_type": "code",
   "execution_count": null,
   "metadata": {
    "notebookRunGroups": {
     "groupValue": "1"
    }
   },
   "outputs": [],
   "source": [
    "import numpy as np\n",
    "\n",
    "\"\"\"Deterministically generate a matrix\"\"\"\n",
    "def get_tensor(*shape, entropy=1):\n",
    "    np.random.seed(np.prod(shape) * len(shape) * entropy)\n",
    "    return ndl.Tensor(np.random.randint(0, 100, size=shape) / 20, dtype=\"float32\")\n",
    "\n",
    "def logsumexp_forward(shape, axes):\n",
    "    x = get_tensor(*shape)\n",
    "    return (ndl.ops.logsumexp(x,axes=axes)).cached_data\n",
    "\n",
    "def logsumexp_backward(shape, axes):\n",
    "    x = get_tensor(*shape)\n",
    "    y = (ndl.ops.logsumexp(x, axes=axes)**2).sum()\n",
    "    y.backward()\n",
    "    return x.grad.cached_data"
   ]
  },
  {
   "cell_type": "code",
   "execution_count": null,
   "metadata": {},
   "outputs": [],
   "source": [
    "result = logsumexp_backward((3,3,3), (1,2))\n",
    "result"
   ]
  },
  {
   "cell_type": "code",
   "execution_count": null,
   "metadata": {},
   "outputs": [],
   "source": [
    "expected = np.array([[[1.4293308 , 1.2933122 , 0.82465225],\n",
    "        [0.50017685, 2.1323113 , 2.1323113 ],\n",
    "        [1.4293308 , 0.58112264, 0.40951014]],\n",
    "\n",
    "       [[0.3578173 , 0.07983983, 4.359107  ],\n",
    "        [1.1300558 , 0.561169  , 0.1132981 ],\n",
    "        [0.9252113 , 0.65198547, 1.7722803 ]],\n",
    "\n",
    "       [[0.2755132 , 2.365242  , 2.888913  ],\n",
    "        [0.05291228, 1.1745441 , 0.02627547],\n",
    "        [2.748018  , 0.13681579, 2.748018  ]]], dtype=np.float32)\n",
    "expected"
   ]
  },
  {
   "cell_type": "code",
   "execution_count": null,
   "metadata": {},
   "outputs": [],
   "source": [
    "np.testing.assert_allclose(result, expected, rtol=1e-5, atol=1e-5)"
   ]
  },
  {
   "cell_type": "markdown",
   "metadata": {},
   "source": [
    "#### Testing:"
   ]
  },
  {
   "cell_type": "code",
   "execution_count": null,
   "metadata": {},
   "outputs": [],
   "source": [
    "!python3 -m pytest -v -k \"test_op_logsumexp\""
   ]
  },
  {
   "cell_type": "code",
   "execution_count": null,
   "metadata": {},
   "outputs": [],
   "source": [
    "!python -m mugrade submit $MUGRADER_GRADE_KEY -k \"op_logsumexp\""
   ]
  },
  {
   "cell_type": "markdown",
   "metadata": {
    "tags": []
   },
   "source": [
    "### SoftmaxLoss\n",
    "\n",
    "`needle.nn.SoftmaxLoss()`\n",
    "\n",
    "Applies the softmax loss as defined below (and as implemented in Homework 1), taking in as input a Tensor of logits and a Tensor of the true labels (expressed as a list of numbers, *not* one-hot encoded).\n",
    "\n",
    "Note that you can use the `init.one_hot` function now instead of writing this yourself.  Note: You will need to use the numerically stable logsumexp operated you just implemented for this purpose.\n",
    "\n",
    "\\begin{equation}\n",
    "\\ell_\\text{softmax}(z,y) = \\log \\sum_{i=1}^k \\exp z_i - z_y\n",
    "\\end{equation}\n",
    "\n",
    "___"
   ]
  },
  {
   "cell_type": "markdown",
   "metadata": {},
   "source": [
    "#### Debug:"
   ]
  },
  {
   "cell_type": "code",
   "execution_count": null,
   "metadata": {
    "notebookRunGroups": {
     "groupValue": "1"
    }
   },
   "outputs": [],
   "source": [
    "def get_int_tensor(*shape, low=0, high=10, entropy=1):\n",
    "    np.random.seed(np.prod(shape) * len(shape) * entropy)\n",
    "    return ndl.Tensor(np.random.randint(low, high, size=shape))"
   ]
  },
  {
   "cell_type": "code",
   "execution_count": null,
   "metadata": {},
   "outputs": [],
   "source": [
    "def softmax_loss_forward(rows, classes):\n",
    "    x = get_tensor(rows, classes)\n",
    "    y = get_int_tensor(rows, low=0, high=classes)\n",
    "    f = ndl.nn.SoftmaxLoss()\n",
    "    return np.array(f(x, y).cached_data)"
   ]
  },
  {
   "cell_type": "code",
   "execution_count": null,
   "metadata": {},
   "outputs": [],
   "source": [
    "rows = 5\n",
    "classes = 10\n",
    "y = get_int_tensor(rows, low=0, high=classes)\n",
    "y"
   ]
  },
  {
   "cell_type": "code",
   "execution_count": null,
   "metadata": {},
   "outputs": [],
   "source": [
    "y_one_hot = ndl.init.one_hot(y.numpy().max()+1, y)\n",
    "y_one_hot"
   ]
  },
  {
   "cell_type": "code",
   "execution_count": null,
   "metadata": {},
   "outputs": [],
   "source": [
    "softmax_loss_forward(2, 7)"
   ]
  },
  {
   "cell_type": "code",
   "execution_count": null,
   "metadata": {},
   "outputs": [],
   "source": [
    "np.testing.assert_allclose(\n",
    "        softmax_loss_forward(5, 10),\n",
    "        np.array(4.041218, dtype=np.float32), rtol=1e-5, atol=1e-5)"
   ]
  },
  {
   "cell_type": "code",
   "execution_count": null,
   "metadata": {},
   "outputs": [],
   "source": []
  },
  {
   "cell_type": "markdown",
   "metadata": {},
   "source": [
    "#### Test:"
   ]
  },
  {
   "cell_type": "code",
   "execution_count": null,
   "metadata": {},
   "outputs": [],
   "source": [
    "!python3 -m pytest -v -k \"test_nn_softmax_loss\""
   ]
  },
  {
   "cell_type": "code",
   "execution_count": null,
   "metadata": {},
   "outputs": [],
   "source": [
    "!python -m mugrade submit $MUGRADER_GRADE_KEY -k \"nn_softmax_loss\""
   ]
  },
  {
   "cell_type": "markdown",
   "metadata": {
    "tags": []
   },
   "source": [
    "### LayerNorm1d\n",
    "`needle.nn.LayerNorm1d(dim, eps=1e-5, device=None, dtype=\"float32\")`\n",
    "\n",
    "Applies layer normalization over a mini-batch of inputs as described in the paper [Layer Normalization](https://arxiv.org/abs/1607.06450).\n",
    "\n",
    "\\begin{equation}\n",
    "y = w \\circ \\frac{x_i - \\textbf{E}[x]}{((\\textbf{Var}[x]+\\epsilon)^{1/2})} + b\n",
    "\\end{equation}\n",
    "\n",
    "where $\\textbf{E}[x]$ denotes the empirical mean of the inputs, $\\textbf{Var}[x]$ denotes their empirical variance (not that here we are using the \"unbiased\" estimate of the variance, i.e., dividing by $N$ rather than by $N-1$), and $w$ and $b$ denote learnable scalar weights and biases respectively.  Note you can assume the input to this layer by be a 2D tensor, with batches in the first dimension and features on the second.\n",
    "\n",
    "##### Parameters\n",
    "- `dim` - number of channels\n",
    "- `eps` - a value added to the denominator for numerical stability.\n",
    "\n",
    "##### Variables\n",
    "- `weight` - the learnable weights of size `dim`, elements initialized to 1.\n",
    "- `bias` - the learnable bias of shape `dim`, elements initialized to 0 **(changed from 1)**.\n",
    "___"
   ]
  },
  {
   "cell_type": "markdown",
   "metadata": {},
   "source": [
    "#### Debug"
   ]
  },
  {
   "cell_type": "code",
   "execution_count": null,
   "metadata": {},
   "outputs": [],
   "source": [
    "def layernorm_forward(shape, dim):\n",
    "    f = ndl.nn.LayerNorm1d(dim)\n",
    "    x = get_tensor(*shape)\n",
    "    return f(x).cached_data"
   ]
  },
  {
   "cell_type": "code",
   "execution_count": null,
   "metadata": {},
   "outputs": [],
   "source": [
    "layernorm_forward((2,10), 10)"
   ]
  },
  {
   "cell_type": "code",
   "execution_count": null,
   "metadata": {},
   "outputs": [],
   "source": [
    "np.testing.assert_allclose(layernorm_forward((2,10), 10),\n",
    "    np.array([\n",
    "        [ 0.8297899 ,  1.6147263 , -1.525019  , -0.4036814 ,  0.306499, 0.08223152,  0.6429003 , -1.3381294 ,  0.8671678 , -1.0764838 ],\n",
    "        [-1.8211555 ,  0.39098236, -0.5864739 ,  0.853988  , -0.3806936, 1.2655486 ,  0.33953735,  1.522774  , -0.8951442 , -0.68936396]], dtype=np.float32), rtol=1e-5, atol=1e-5)"
   ]
  },
  {
   "cell_type": "markdown",
   "metadata": {},
   "source": [
    "#### Test"
   ]
  },
  {
   "cell_type": "code",
   "execution_count": null,
   "metadata": {},
   "outputs": [],
   "source": [
    "!python3 -m pytest -v -k \"test_nn_layernorm\""
   ]
  },
  {
   "cell_type": "code",
   "execution_count": null,
   "metadata": {},
   "outputs": [],
   "source": [
    "!python -m mugrade submit $MUGRADER_GRADE_KEY -k \"nn_layernorm\""
   ]
  },
  {
   "cell_type": "markdown",
   "metadata": {},
   "source": [
    "\n",
    "### Flatten\n",
    "`needle.nn.Flatten()`\n",
    "\n",
    "Takes in a tensor of shape `(B,X_0,X_1,...)`, and flattens all non-batch dimensions so that the output is of shape `(B, X_0 * X_1 * ...)`"
   ]
  },
  {
   "cell_type": "code",
   "execution_count": null,
   "metadata": {},
   "outputs": [],
   "source": [
    "!python3 -m pytest -v -k \"test_nn_flatten\""
   ]
  },
  {
   "cell_type": "code",
   "execution_count": null,
   "metadata": {},
   "outputs": [],
   "source": [
    "!python -m mugrade submit $MUGRADER_GRADE_KEY -k \"nn_flatten\""
   ]
  },
  {
   "cell_type": "markdown",
   "metadata": {},
   "source": [
    "### BatchNorm1d\n",
    "`needle.nn.BatchNorm1d(dim, eps=1e-5, momentum=0.1, device=None, dtype=\"float32\")`\n",
    "\n",
    "Applies batch normalization over a mini-batch of inputs as described in the paper [Batch Normalization: Accelerating Deep Network Training by Reducing Internal Covariate Shift](https://arxiv.org/abs/1502.03167).\n",
    "\n",
    "\\begin{equation}\n",
    "y = w \\circ \\frac{z_i - \\textbf{E}[x]}{((\\textbf{Var}[x]+\\epsilon)^{1/2})} + b\n",
    "\\end{equation}\n",
    "\n",
    "but where here the mean and variance refer to to the mean and variance over the _batch_dimensions.  The function also computes a running average of mean/variance for all features at each layer $\\hat{\\mu}, \\hat{\\sigma}^2$, and at test time normalizes by these quantities:\n",
    "\n",
    "\\begin{equation}\n",
    "y = \\frac{(x - \\hat{mu})}{((\\hat{\\sigma}^2_{i+1})_j+\\epsilon)^{1/2}}\n",
    "\\end{equation}\n",
    "\n",
    "\n",
    "BatchNorm uses the running estimates of mean and variance instead of batch statistics at test time, i.e.,\n",
    "after `model.eval()` has been called on the BatchNorm layer's `training` flag is false.\n",
    "\n",
    "To compute the running estimates, you can use the equation $$\\hat{x_{new}} = (1 - m) \\hat{x_{old}} + mx_{observed},$$\n",
    "where $m$ is momentum.\n",
    "\n",
    "##### Parameters\n",
    "- `dim` - input dimension\n",
    "- `eps` - a value added to the denominator for numerical stability.\n",
    "- `momentum` - the value used for the running mean and running variance computation.\n",
    "\n",
    "##### Variables\n",
    "- `weight` - the learnable weights of size `dim`, elements initialized to 1.\n",
    "- `bias` - the learnable bias of size `dim`, elements initialized to 0.\n",
    "- `running_mean` - the running mean used at evaluation time, elements initialized to 0.\n",
    "- `running_var` - the running (unbiased) variance used at evaluation time, elements initialized to 1. \n",
    "\n",
    "___"
   ]
  },
  {
   "cell_type": "markdown",
   "metadata": {},
   "source": [
    "#### Debug"
   ]
  },
  {
   "cell_type": "code",
   "execution_count": null,
   "metadata": {},
   "outputs": [],
   "source": [
    "def batchnorm_forward(*shape, affine=False):\n",
    "    x = get_tensor(*shape)\n",
    "    bn = ndl.nn.BatchNorm1d(shape[1])\n",
    "    if affine:\n",
    "        bn.weight.data = get_tensor(shape[1], entropy=42)\n",
    "        bn.bias.data = get_tensor(shape[1], entropy=1337)\n",
    "    return bn(x).cached_data"
   ]
  },
  {
   "cell_type": "code",
   "execution_count": null,
   "metadata": {},
   "outputs": [],
   "source": [
    "batchnorm_forward(4, 4)"
   ]
  },
  {
   "cell_type": "code",
   "execution_count": null,
   "metadata": {},
   "outputs": [],
   "source": [
    "np.testing.assert_allclose(batchnorm_forward(4, 4),\n",
    "            np.array([[ 7.8712696e-01, -3.1676728e-01, -6.4885163e-01, 2.0828949e-01],\n",
    "             [-7.9508079e-03, 1.0092355e+00, 1.6221288e+00, 8.5209310e-01],\n",
    "             [ 8.5073310e-01, -1.4954363e+00, -9.6686421e-08, -1.6852506e+00],\n",
    "             [-1.6299094e+00, 8.0296844e-01, -9.7327745e-01, 6.2486827e-01]],\n",
    "             dtype=np.float32), rtol=1e-5, atol=1e-5)"
   ]
  },
  {
   "cell_type": "code",
   "execution_count": null,
   "metadata": {},
   "outputs": [],
   "source": [
    "def batchnorm_running_mean(*shape, iters=10):\n",
    "    bn = ndl.nn.BatchNorm1d(shape[1])\n",
    "    for i in range(iters):\n",
    "        x = get_tensor(*shape, entropy=i)\n",
    "        y = bn(x)\n",
    "    return bn.running_mean.cached_data"
   ]
  },
  {
   "cell_type": "code",
   "execution_count": null,
   "metadata": {},
   "outputs": [],
   "source": [
    "batchnorm_running_mean(4, 3)"
   ]
  },
  {
   "cell_type": "code",
   "execution_count": null,
   "metadata": {},
   "outputs": [],
   "source": [
    "np.testing.assert_allclose(batchnorm_running_mean(4, 3),\n",
    "            np.array([2.020656, 1.69489 , 1.498846], dtype=np.float32), rtol=1e-5, atol=1e-5)"
   ]
  },
  {
   "cell_type": "markdown",
   "metadata": {},
   "source": [
    "#### Test"
   ]
  },
  {
   "cell_type": "code",
   "execution_count": null,
   "metadata": {},
   "outputs": [],
   "source": [
    "!python3 -m pytest -v -k \"test_nn_batchnorm\""
   ]
  },
  {
   "cell_type": "code",
   "execution_count": null,
   "metadata": {},
   "outputs": [],
   "source": [
    "!python -m mugrade submit $MUGRADER_GRADE_KEY -k \"nn_batchnorm\""
   ]
  },
  {
   "cell_type": "markdown",
   "metadata": {},
   "source": [
    "### Dropout\n",
    "`needle.nn.Dropout(p = 0.5)`\n",
    "\n",
    "During training, randomly zeroes some of the elements of the input tensor with probability `p` using samples from a Bernoulli distribution. This has proven to be an effective technique for regularization and preventing the co-adaptation of neurons as described in the paper [Improving neural networks by preventing co-adaption of feature detectors](https://arxiv.org/abs/1207.0580). During evaluation the module simply computes an identity function. \n",
    "\n",
    "\\begin{equation}\n",
    "\\hat{z}_{i+1} = \\sigma_i (W_i^T z_i + b_i) \\\\\n",
    "(z_{i+1})_j = \n",
    "    \\begin{cases}\n",
    "    (\\hat{z}_{i+1})_j /(1-p) & \\text{with probability } 1-p \\\\\n",
    "    0 & \\text{with probability } p \\\\\n",
    "    \\end{cases}\n",
    "\\end{equation}\n",
    "\n",
    "**Important**: If the Dropout module the flag `training=False`, you shouldn't \"dropout\" any weights. That is, dropout applies during training only, not during evaluation. Note that `training` is a flag in `nn.Module`.\n",
    "\n",
    "##### Parameters\n",
    "- `p` - the probability of an element to be zeroed.\n",
    "\n",
    "___"
   ]
  },
  {
   "cell_type": "code",
   "execution_count": null,
   "metadata": {},
   "outputs": [],
   "source": [
    "def dropout_forward(shape, prob=0.5):\n",
    "    np.random.seed(3)\n",
    "    x = get_tensor(*shape)\n",
    "    f = ndl.nn.Dropout(prob)\n",
    "    return f(x).cached_data"
   ]
  },
  {
   "cell_type": "code",
   "execution_count": null,
   "metadata": {},
   "outputs": [],
   "source": [
    "dropout_forward((2, 3), prob=0.45)"
   ]
  },
  {
   "cell_type": "code",
   "execution_count": null,
   "metadata": {},
   "outputs": [],
   "source": [
    "np.testing.assert_allclose(dropout_forward((2, 3), prob=0.45),\n",
    "            np.array([[6.818182 , 0. , 0. ],\n",
    "             [0.18181819, 0. , 6.090909 ]], dtype=np.float32), rtol=1e-5, atol=1e-5)"
   ]
  },
  {
   "cell_type": "code",
   "execution_count": null,
   "metadata": {},
   "outputs": [],
   "source": [
    "!python3 -m pytest -v -k \"test_nn_dropout\""
   ]
  },
  {
   "cell_type": "code",
   "execution_count": null,
   "metadata": {},
   "outputs": [],
   "source": [
    "!python -m mugrade submit $MUGRADER_GRADE_KEY -k \"nn_dropout\""
   ]
  },
  {
   "cell_type": "markdown",
   "metadata": {
    "tags": []
   },
   "source": [
    "### Residual\n",
    "`needle.nn.Residual(fn: Module)`\n",
    "\n",
    "Applies a residual or skip connection given module $\\mathcal{F}$ and input Tensor $x$, returning $\\mathcal{F}(x) + x$.\n",
    "##### Parameters\n",
    "- `fn` - module of type `needle.nn.Module`"
   ]
  },
  {
   "cell_type": "code",
   "execution_count": null,
   "metadata": {},
   "outputs": [],
   "source": [
    "!python3 -m pytest -v -k \"test_nn_residual\""
   ]
  },
  {
   "cell_type": "code",
   "execution_count": null,
   "metadata": {},
   "outputs": [],
   "source": [
    "!python -m mugrade submit $MUGRADER_GRADE_KEY -k \"nn_residual\""
   ]
  },
  {
   "cell_type": "markdown",
   "metadata": {
    "tags": []
   },
   "source": [
    "## Question 3\n",
    "\n",
    "Implement the `step` function of the following optimizers.\n",
    "Make sure that your optimizers _don't_ modify the gradients of tensors in-place.\n",
    "\n",
    "We have included some tests to ensure that you are not consuming excessive memory, which can happen if you are\n",
    "not using `.data` or `.detach()` in the right places, thus building an increasingly large computational graph\n",
    "(not just in the optimizers, but in the previous modules as well).\n",
    "You can ignore these tests, which include the string `memory_check` at your own discretion.\n",
    "\n",
    "___\n",
    "\n",
    "### SGD\n",
    "`needle.optim.SGD(params, lr=0.01, momentum=0.0, weight_decay=0.0)`\n",
    "\n",
    "Implements stochastic gradient descent (optionally with momentum, shown as $\\beta$ below). \n",
    "\n",
    "\\begin{equation}\n",
    "\\begin{split}\n",
    "    u_{t+1} &= \\beta u_t + (1-\\beta) \\nabla_\\theta f(\\theta_t) \\\\\n",
    "    \\theta_{t+1} &= \\theta_t - \\alpha u_{t+1}\n",
    "\\end{split}\n",
    "\\end{equation}\n",
    "\n",
    "##### Parameters\n",
    "- `params` - iterable of parameters of type `needle.nn.Parameter` to optimize\n",
    "- `lr` (*float*) - learning rate\n",
    "- `momentum` (*float*) - momentum factor\n",
    "- `weight_decay` (*float*) - weight decay (L2 penalty)\n",
    "___"
   ]
  },
  {
   "cell_type": "markdown",
   "metadata": {},
   "source": [
    "#### Debug"
   ]
  },
  {
   "cell_type": "code",
   "execution_count": null,
   "metadata": {},
   "outputs": [],
   "source": [
    "def learn_model_1d(feature_size, nclasses, _model, optimizer, epochs=1, **kwargs):\n",
    "    np.random.seed(42)\n",
    "    model = _model([])\n",
    "    X = get_tensor(1024, feature_size).cached_data\n",
    "    y = get_int_tensor(1024, low=0, high=nclasses).cached_data.astype(np.uint8)\n",
    "    m = X.shape[0]\n",
    "    batch = 32\n",
    "\n",
    "    loss_func = ndl.nn.SoftmaxLoss()\n",
    "    opt = optimizer(model.parameters(), **kwargs)\n",
    "\n",
    "    for _ in range(epochs):\n",
    "        for i, (X0, y0) in enumerate(zip(np.array_split(X, m//batch), np.array_split(y, m//batch))):\n",
    "            opt.reset_grad()\n",
    "            X0, y0 = ndl.Tensor(X0, dtype=\"float32\"), ndl.Tensor(y0)\n",
    "            out = model(X0)\n",
    "            loss = loss_func(out, y0)\n",
    "            loss.backward()\n",
    "            # Opt should not change gradients.\n",
    "            grad_before = model.parameters()[0].grad.detach().cached_data\n",
    "            opt.step()\n",
    "            grad_after = model.parameters()[0].grad.detach().cached_data\n",
    "            np.testing.assert_allclose(grad_before, grad_after, rtol=1e-5, atol=1e-5, \\\n",
    "                                       err_msg=\"Optim should not modify gradients in place\")\n",
    "\n",
    "\n",
    "    return np.array(loss.cached_data)"
   ]
  },
  {
   "cell_type": "code",
   "execution_count": null,
   "metadata": {},
   "outputs": [],
   "source": [
    "learn_model_1d(64, 16, lambda z: ndl.nn.Sequential(ndl.nn.Linear(64, 32), ndl.nn.ReLU(), ndl.nn.Linear(32, 16)), ndl.optim.SGD, lr=0.01, momentum=0.0, weight_decay=0.01)"
   ]
  },
  {
   "cell_type": "code",
   "execution_count": null,
   "metadata": {},
   "outputs": [],
   "source": [
    "np.testing.assert_allclose(learn_model_1d(64, 16, lambda z: ndl.nn.Sequential(ndl.nn.Linear(64, 32), ndl.nn.ReLU(), ndl.nn.Linear(32, 16)), ndl.optim.SGD, lr=0.01, momentum=0.0, weight_decay=0.01),\n",
    "    np.array(3.202637), rtol=1e-5, atol=1e-5)"
   ]
  },
  {
   "cell_type": "code",
   "execution_count": null,
   "metadata": {},
   "outputs": [],
   "source": [
    "learn_model_1d(64, 16, lambda z: ndl.nn.Sequential(ndl.nn.Linear(64, 32), ndl.nn.ReLU(), ndl.nn.Linear(32, 16)), ndl.optim.SGD, lr=0.01, momentum=0.9, weight_decay=0.01)"
   ]
  },
  {
   "cell_type": "code",
   "execution_count": null,
   "metadata": {},
   "outputs": [],
   "source": [
    "learn_model_1d(48, 16, lambda z: ndl.nn.Sequential(ndl.nn.Linear(48, 32), ndl.nn.ReLU(), ndl.nn.BatchNorm1d(32), ndl.nn.Linear(32, 16)), ndl.optim.SGD, lr=0.01, momentum=0.0, weight_decay=0.01, epochs=2)"
   ]
  },
  {
   "cell_type": "markdown",
   "metadata": {},
   "source": [
    "#### Test"
   ]
  },
  {
   "cell_type": "code",
   "execution_count": null,
   "metadata": {},
   "outputs": [],
   "source": [
    "!python3 -m pytest -v -k \"test_optim_sgd\""
   ]
  },
  {
   "cell_type": "code",
   "execution_count": null,
   "metadata": {},
   "outputs": [],
   "source": [
    "!python -m mugrade submit $MUGRADER_GRADE_KEY -k \"optim_sgd\""
   ]
  },
  {
   "cell_type": "markdown",
   "metadata": {
    "tags": []
   },
   "source": [
    "### Adam\n",
    "`needle.optim.Adam(params, lr=0.01, beta1=0.9, beta2=0.999, eps=1e-8, weight_decay=0.0)`\n",
    "\n",
    "Implements Adam algorithm, proposed in [Adam: A Method for Stochastic Optimization](https://arxiv.org/abs/1412.6980). \n",
    "\n",
    "\\begin{equation}\n",
    "\\begin{split}\n",
    "u_{t+1} &= \\beta_1 u_t + (1-\\beta_1) \\nabla_\\theta f(\\theta_t) \\\\\n",
    "v_{t+1} &= \\beta_2 v_t + (1-\\beta_2) (\\nabla_\\theta f(\\theta_t))^2 \\\\\n",
    "\\hat{u}_{t+1} &= u_{t+1} / (1 - \\beta_1^t) \\quad \\text{(bias correction)} \\\\\n",
    "\\hat{v}_{t+1} &= v_{t+1} / (1 - \\beta_2^t) \\quad \\text{(bias correction)}\\\\\n",
    "\\theta_{t+1} &= \\theta_t - \\alpha \\hat{u_{t+1}}/(\\hat{v}_{t+1}^{1/2}+\\epsilon)\n",
    "\\end{split}\n",
    "    \\end{equation}\n",
    "\n",
    "**Important:** Pay attention to whether or not you are applying bias correction.\n",
    "\n",
    "##### Parameters\n",
    "- `params` - iterable of parameters of type `needle.nn.Parameter` to optimize\n",
    "- `lr` (*float*) - learning rate\n",
    "- `beta1` (*float*) - coefficient used for computing running average of gradient\n",
    "- `beta2` (*float*) - coefficient used for computing running average of square of gradient\n",
    "- `eps` (*float*) - term added to the denominator to improve numerical stability\n",
    "- `bias_correction` - whether to use bias correction for $u, v$\n",
    "- `weight_decay` (*float*) - weight decay (L2 penalty)"
   ]
  },
  {
   "cell_type": "markdown",
   "metadata": {},
   "source": [
    "#### Debug"
   ]
  },
  {
   "cell_type": "code",
   "execution_count": null,
   "metadata": {},
   "outputs": [],
   "source": [
    "def learn_model_1d(feature_size, nclasses, _model, optimizer, epochs=1, **kwargs):\n",
    "    np.random.seed(42)\n",
    "    model = _model([])\n",
    "    X = get_tensor(1024, feature_size).cached_data\n",
    "    y = get_int_tensor(1024, low=0, high=nclasses).cached_data.astype(np.uint8)\n",
    "    m = X.shape[0]\n",
    "    batch = 32\n",
    "\n",
    "    loss_func = ndl.nn.SoftmaxLoss()\n",
    "    opt = optimizer(model.parameters(), **kwargs)\n",
    "\n",
    "    for _ in range(epochs):\n",
    "        for i, (X0, y0) in enumerate(zip(np.array_split(X, m//batch), np.array_split(y, m//batch))):\n",
    "            opt.reset_grad()\n",
    "            X0, y0 = ndl.Tensor(X0, dtype=\"float32\"), ndl.Tensor(y0)\n",
    "            out = model(X0)\n",
    "            loss = loss_func(out, y0)\n",
    "            loss.backward()\n",
    "            # Opt should not change gradients.\n",
    "            grad_before = model.parameters()[0].grad.detach().cached_data\n",
    "            opt.step()\n",
    "            grad_after = model.parameters()[0].grad.detach().cached_data\n",
    "            np.testing.assert_allclose(grad_before, grad_after, rtol=1e-5, atol=1e-5, \\\n",
    "                                       err_msg=\"Optim should not modify gradients in place\")\n",
    "\n",
    "\n",
    "    return np.array(loss.cached_data)"
   ]
  },
  {
   "cell_type": "code",
   "execution_count": null,
   "metadata": {},
   "outputs": [],
   "source": [
    "def learn_model_1d_eval(feature_size, nclasses, _model, optimizer, epochs=1, **kwargs):\n",
    "    np.random.seed(42)\n",
    "    model = _model([])\n",
    "    X = get_tensor(1024, feature_size).cached_data\n",
    "    y = get_int_tensor(1024, low=0, high=nclasses).cached_data.astype(np.uint8)\n",
    "    m = X.shape[0]\n",
    "    batch = 32\n",
    "\n",
    "    loss_func = ndl.nn.SoftmaxLoss()\n",
    "    opt = optimizer(model.parameters(), **kwargs)\n",
    "\n",
    "    for i, (X0, y0) in enumerate(zip(np.array_split(X, m//batch), np.array_split(y, m//batch))):\n",
    "        opt.reset_grad()\n",
    "        X0, y0 = ndl.Tensor(X0, dtype=\"float32\"), ndl.Tensor(y0)\n",
    "        out = model(X0)\n",
    "        loss = loss_func(out, y0)\n",
    "        loss.backward()\n",
    "        opt.step()\n",
    "\n",
    "    X_test = ndl.Tensor(get_tensor(batch, feature_size).cached_data)\n",
    "    y_test = ndl.Tensor(get_int_tensor(batch, low=0, high=nclasses).cached_data.astype(np.uint8))\n",
    "\n",
    "    model.eval()\n",
    "\n",
    "    return np.array(loss_func(model(X_test), y_test).cached_data)"
   ]
  },
  {
   "cell_type": "code",
   "execution_count": null,
   "metadata": {},
   "outputs": [],
   "source": [
    "learn_model_1d(64, 16, \n",
    "    lambda z: ndl.nn.Sequential(\n",
    "        ndl.nn.Linear(64, 32), \n",
    "        ndl.nn.ReLU(), \n",
    "        ndl.nn.BatchNorm1d(32), \n",
    "        ndl.nn.Linear(32, 16)\n",
    "    ), ndl.optim.Adam, lr=0.001, weight_decay=0.001)"
   ]
  },
  {
   "cell_type": "code",
   "execution_count": null,
   "metadata": {},
   "outputs": [],
   "source": [
    "np.testing.assert_allclose(\n",
    "    learn_model_1d(64, 16, \n",
    "        lambda z: ndl.nn.Sequential(\n",
    "            ndl.nn.Linear(64, 32), \n",
    "            ndl.nn.ReLU(), \n",
    "            ndl.nn.BatchNorm1d(32), \n",
    "            ndl.nn.Linear(32, 16)\n",
    "        ), ndl.optim.Adam, lr=0.001, weight_decay=0.001\n",
    "    ),\n",
    "    np.array(3.296256, dtype=np.float32), rtol=1e-5, atol=1e-5)"
   ]
  },
  {
   "cell_type": "code",
   "execution_count": null,
   "metadata": {},
   "outputs": [],
   "source": [
    "learn_model_1d_eval(64, 16, \n",
    "    lambda z: ndl.nn.Sequential(\n",
    "        ndl.nn.Linear(64, 32), \n",
    "        ndl.nn.ReLU(), \n",
    "        ndl.nn.BatchNorm1d(32), \n",
    "        ndl.nn.Linear(32, 16)\n",
    "    ), \n",
    "    ndl.optim.Adam, lr=0.001, weight_decay=0.001\n",
    ")"
   ]
  },
  {
   "cell_type": "code",
   "execution_count": null,
   "metadata": {},
   "outputs": [],
   "source": [
    "np.testing.assert_allclose(\n",
    "    learn_model_1d_eval(64, 16, \n",
    "        lambda z: ndl.nn.Sequential(\n",
    "            ndl.nn.Linear(64, 32), \n",
    "            ndl.nn.ReLU(), \n",
    "            ndl.nn.BatchNorm1d(32), \n",
    "            ndl.nn.Linear(32, 16)\n",
    "        ), \n",
    "        ndl.optim.Adam, lr=0.001, weight_decay=0.001\n",
    "    ),\n",
    "    np.array(3.192054, dtype=np.float32), rtol=1e-5, atol=1e-5)"
   ]
  },
  {
   "cell_type": "markdown",
   "metadata": {},
   "source": [
    "#### Test"
   ]
  },
  {
   "cell_type": "code",
   "execution_count": null,
   "metadata": {},
   "outputs": [],
   "source": [
    "!python3 -m pytest -v -k \"test_optim_adam\""
   ]
  },
  {
   "cell_type": "code",
   "execution_count": null,
   "metadata": {},
   "outputs": [],
   "source": [
    "!python -m mugrade submit $MUGRADER_GRADE_KEY -k \"optim_adam\""
   ]
  },
  {
   "cell_type": "markdown",
   "metadata": {},
   "source": [
    "## Question 4\n",
    "\n",
    "In this question, you will implement two data primitives: `needle.data.DataLoader` and `needle.data.Dataset`. `Dataset` stores the samples and their corresponding labels, and `DataLoader` wraps an iterable around the `Dataset` to enable easy access to the samples. \n",
    "\n",
    "For this question, you will be working in `python/needle/data.py`. First, copy your solution to `parse_mnist` from the previous homework into the `parse_mnist` function. \n",
    "\n",
    "### Transformations\n",
    "\n",
    "First we will implement a few transformations that are helpful when working with images. We will stick with a horizontal flip and a random crop for now. Fill out the following functions in `data.py`.\n",
    "___ \n",
    "\n",
    "#### RandomFlipHorizontal\n",
    "`needle.data.RandomFlipHorizontal(p = 0.5)`\n",
    "\n",
    "Flips the image horizontally, with probability `p`.\n",
    "\n",
    "##### Parameters\n",
    "- `p` (*float*) - The probability of flipping the input image.\n",
    "___\n",
    "\n",
    "#### RandomCrop\n",
    "`needle.data.RandomCrop(padding=3)`\n",
    "\n",
    "Padding is added to all side of the image, and then the image is cropped back to it's original size at a random location. Returns an image the same size as the original image.\n",
    "\n",
    "##### Parameters\n",
    "- `padding` (*int*) - The padding on each border of the image."
   ]
  },
  {
   "cell_type": "code",
   "execution_count": null,
   "metadata": {
    "notebookRunGroups": {
     "groupValue": "1"
    }
   },
   "outputs": [],
   "source": [
    "sys.path.append(\"/home/anatoly/code/dlsyscourse-homework/hw2/tests\")"
   ]
  },
  {
   "cell_type": "code",
   "execution_count": null,
   "metadata": {
    "notebookRunGroups": {
     "groupValue": "1"
    }
   },
   "outputs": [],
   "source": [
    "import tests.test_data\n",
    "%aimport tests.test_data"
   ]
  },
  {
   "cell_type": "code",
   "execution_count": null,
   "metadata": {},
   "outputs": [],
   "source": [
    "tform = ndl.data.RandomCrop(2)\n",
    "np.random.seed(0)\n",
    "tform(a)"
   ]
  },
  {
   "cell_type": "code",
   "execution_count": null,
   "metadata": {},
   "outputs": [],
   "source": [
    "tests.test_data.test_random_crop()"
   ]
  },
  {
   "cell_type": "code",
   "execution_count": null,
   "metadata": {},
   "outputs": [],
   "source": [
    "!python3 -m pytest -v -k \"flip_horizontal\""
   ]
  },
  {
   "cell_type": "code",
   "execution_count": null,
   "metadata": {},
   "outputs": [],
   "source": [
    "!python3 -m pytest -v -k \"random_crop\""
   ]
  },
  {
   "cell_type": "code",
   "execution_count": null,
   "metadata": {},
   "outputs": [],
   "source": [
    "!python -m mugrade submit $MUGRADER_GRADE_KEY -k \"flip_horizontal\"\n",
    "!python -m mugrade submit $MUGRADER_GRADE_KEY -k \"random_crop\""
   ]
  },
  {
   "cell_type": "markdown",
   "metadata": {},
   "source": [
    "### Dataset\n",
    "\n",
    "Each `Dataset` subclass must implement three functions: `__init__`, `__len__`, and `__getitem__`. The `__init__` function initializes the images, labels, and transforms. The `__len__` function returns the number of samples in the dataset. The `__getitem__` function retrieves a sample from the dataset at a given index `idx`, calls the transform functions on the image (if applicable), converts the image and label to a numpy array (the data will be converted to Tensors elsewhere). Fill out these functions in the `MNISTDataset` class: \n",
    "___ \n",
    "\n",
    "### MNISTDataset\n",
    "`needle.data.MNISTDataset(image_filesname, label_filesname, transforms)`\n",
    "\n",
    "##### Parameters\n",
    "- `image_filesname` - path of file containing images\n",
    "- `label_filesname` - path of file containing labels\n",
    "- `transforms` - an optional list of transforms to apply to data\n"
   ]
  },
  {
   "cell_type": "code",
   "execution_count": null,
   "metadata": {},
   "outputs": [],
   "source": [
    "tests.test_data.test_mnist_dataset()"
   ]
  },
  {
   "cell_type": "code",
   "execution_count": null,
   "metadata": {},
   "outputs": [],
   "source": [
    "np.random.seed(0)\n",
    "tforms = [ndl.data.RandomCrop(28), ndl.data.RandomFlipHorizontal()]\n",
    "mnist_train_dataset = ndl.data.MNISTDataset(\"data/train-images-idx3-ubyte.gz\",\n",
    "                                            \"data/train-labels-idx1-ubyte.gz\",\n",
    "                                            transforms=tforms)"
   ]
  },
  {
   "cell_type": "code",
   "execution_count": null,
   "metadata": {},
   "outputs": [],
   "source": [
    "np.random.seed(0)\n",
    "sample_norms = []\n",
    "for idx in [1,42,1000,2000,3000,4000,5000,5005]:\n",
    "    x = mnist_train_dataset[idx][0]\n",
    "    x_norm = np.linalg.norm(x) # Why this doesn't depend on the shape of x?\n",
    "    sample_norms.append(x_norm)\n",
    "\n",
    "sample_norms = np.array(sample_norms)\n",
    "compare_against = np.array([2.0228338 ,0.,7.4892044 ,0.,0.,3.8012788,9.583429,4.2152724])\n",
    "np.testing.assert_allclose(sample_norms, compare_against)"
   ]
  },
  {
   "cell_type": "code",
   "execution_count": null,
   "metadata": {},
   "outputs": [],
   "source": [
    "mnist_train_dataset[0][0].shape"
   ]
  },
  {
   "cell_type": "code",
   "execution_count": null,
   "metadata": {},
   "outputs": [],
   "source": [
    "mnist_train_dataset[0][1].shape"
   ]
  },
  {
   "cell_type": "code",
   "execution_count": null,
   "metadata": {},
   "outputs": [],
   "source": [
    "mnist_train_dataset[np.array([0])][0].shape"
   ]
  },
  {
   "cell_type": "code",
   "execution_count": null,
   "metadata": {},
   "outputs": [],
   "source": [
    "mnist_train_dataset[np.array([0])][1].shape"
   ]
  },
  {
   "cell_type": "code",
   "execution_count": null,
   "metadata": {},
   "outputs": [],
   "source": [
    "mnist_train_dataset[30:50][0].shape"
   ]
  },
  {
   "cell_type": "code",
   "execution_count": null,
   "metadata": {},
   "outputs": [],
   "source": [
    "mnist_train_dataset[30:50][1].shape"
   ]
  },
  {
   "cell_type": "code",
   "execution_count": null,
   "metadata": {},
   "outputs": [],
   "source": [
    "mnist_train_dataset[np.array([0,3,5])][0].shape"
   ]
  },
  {
   "cell_type": "code",
   "execution_count": null,
   "metadata": {},
   "outputs": [],
   "source": [
    "mnist_train_dataset[np.array([0,3,5])][1].shape"
   ]
  },
  {
   "cell_type": "code",
   "execution_count": null,
   "metadata": {},
   "outputs": [],
   "source": [
    "np.random.seed(0)\n",
    "tforms = [ndl.data.RandomFlipHorizontal()]\n",
    "mnist_train_dataset = ndl.data.MNISTDataset(\"data/train-images-idx3-ubyte.gz\",\n",
    "                                            \"data/train-labels-idx1-ubyte.gz\",\n",
    "                                            transforms=tforms)"
   ]
  },
  {
   "cell_type": "code",
   "execution_count": null,
   "metadata": {},
   "outputs": [],
   "source": [
    "mnist_train_dataset[822][0].shape"
   ]
  },
  {
   "cell_type": "code",
   "execution_count": null,
   "metadata": {},
   "outputs": [],
   "source": [
    "mnist_train_dataset[820:822][0].shape"
   ]
  },
  {
   "cell_type": "code",
   "execution_count": null,
   "metadata": {},
   "outputs": [],
   "source": [
    "mnist_train_dataset = ndl.data.MNISTDataset(\"data/train-images-idx3-ubyte.gz\",\n",
    "                                                \"data/train-labels-idx1-ubyte.gz\")"
   ]
  },
  {
   "cell_type": "code",
   "execution_count": null,
   "metadata": {},
   "outputs": [],
   "source": [
    "mnist_train_dataset[69][0].shape"
   ]
  },
  {
   "cell_type": "code",
   "execution_count": null,
   "metadata": {},
   "outputs": [],
   "source": [
    "!python3 -m pytest -v -k \"test_mnist_dataset\""
   ]
  },
  {
   "cell_type": "code",
   "execution_count": null,
   "metadata": {},
   "outputs": [],
   "source": [
    "!python -m mugrade submit $MUGRADER_GRADE_KEY -k \"mnist_dataset\""
   ]
  },
  {
   "cell_type": "markdown",
   "metadata": {},
   "source": [
    "### Dataloader\n",
    "\n",
    "The Dataloader class provides an interface for assembling mini-batches of examples suitable for training using SGD-based approaches, backed by a Dataset object.  In order to build the typical Dataloader interface (allowing users to iterate over all the mini-batches in the dataset), you will need the implement the `__iter__()` and `__next__()` calls in the class: `__iter__()` is called at the start of iteration, while `__next__()` is called to grab the next mini-batch. Please note that subsequent calls to next will require you to return the following batches, so next is not a pure function.\n",
    "___\n",
    "\n",
    "### Dataloader\n",
    "`needle.data.Dataloader(dataset: Dataset, batch_size: Optional[int] = 1, shuffle: bool = False)`\n",
    "\n",
    "Combines a dataset and a sampler, and provides an iterable over the given dataset. \n",
    "\n",
    "##### Parameters\n",
    "- `dataset` - `needle.data.Dataset` - a dataset \n",
    "- `batch_size` - `int` - what batch size to serve the data in \n",
    "- `shuffle` - `bool` - set to ``True`` to have the data reshuffle at every epoch, default ``False``.\n",
    "___ \n",
    "\n",
    "\n",
    "\n"
   ]
  },
  {
   "cell_type": "code",
   "execution_count": null,
   "metadata": {},
   "outputs": [],
   "source": [
    "dataset = list(range(30))\n",
    "batch_size = 10\n",
    "\n",
    "ordering = np.array_split(np.arange(len(dataset)), range(batch_size, len(dataset), batch_size))\n",
    "ordering"
   ]
  },
  {
   "cell_type": "code",
   "execution_count": null,
   "metadata": {},
   "outputs": [],
   "source": [
    "s = slice(0,4)\n",
    "d = np.array([0])\n",
    "x = s\n",
    "if isinstance(x, (slice, np.ndarray)):\n",
    "    print(\"SLICE or ARRAY\")\n",
    "if isinstance(x, slice):\n",
    "    print(\"SLICE!\")\n",
    "if isinstance(x, np.ndarray):\n",
    "    print(\"ARRAY!\")"
   ]
  },
  {
   "cell_type": "code",
   "execution_count": null,
   "metadata": {},
   "outputs": [],
   "source": []
  },
  {
   "cell_type": "code",
   "execution_count": null,
   "metadata": {},
   "outputs": [],
   "source": [
    "tests.test_data.test_dataloader_mnist()"
   ]
  },
  {
   "cell_type": "code",
   "execution_count": null,
   "metadata": {},
   "outputs": [],
   "source": [
    "tests.test_data.test_dataloader_ndarray()"
   ]
  },
  {
   "cell_type": "code",
   "execution_count": null,
   "metadata": {},
   "outputs": [],
   "source": [
    "batch_size = 5\n",
    "mnist_test_dataset = ndl.data.MNISTDataset(\"data/t10k-images-idx3-ubyte.gz\",\n",
    "                                            \"data/t10k-labels-idx1-ubyte.gz\")\n",
    "mnist_test_dataloader = ndl.data.DataLoader(dataset=mnist_test_dataset,\n",
    "                                            batch_size=batch_size,\n",
    "                                            shuffle=False)\n",
    "\n",
    "subl_x = []\n",
    "subl_y = []\n",
    "for i, batch in enumerate(mnist_test_dataloader):\n",
    "    batch_x, batch_y = batch[0].numpy(), batch[1].numpy()\n",
    "    print(f\"{batch_x.shape=}, {batch_y.shape=}\")\n",
    "    subl_x.append(batch_x[10:15,10:15])\n",
    "    subl_y.append(batch_y)\n",
    "\n",
    "subl_x[-2:]"
   ]
  },
  {
   "cell_type": "code",
   "execution_count": null,
   "metadata": {},
   "outputs": [],
   "source": [
    "subl_y[-2:]"
   ]
  },
  {
   "cell_type": "code",
   "execution_count": null,
   "metadata": {},
   "outputs": [],
   "source": [
    "!python3 -m pytest -v -k \"test_dataloader\""
   ]
  },
  {
   "cell_type": "code",
   "execution_count": null,
   "metadata": {},
   "outputs": [],
   "source": [
    "!python -m mugrade submit $MUGRADER_GRADE_KEY -k \"dataloader\""
   ]
  },
  {
   "cell_type": "markdown",
   "metadata": {},
   "source": [
    "## Question 5\n",
    "\n",
    "Given you have now implemented all the necessary components for our neural network library, let's build and train an MLP ResNet. For this question, you will be working in `apps/mlp_resnet.py`. First, fill out the functions `ResidualBlock` and `MLPResNet` as described below:\n",
    "\n",
    "### ResidualBlock\n",
    "`ResidualBlock(dim, hidden_dim, norm=nn.BatchNorm1d, drop_prob=0.1)`\n",
    "\n",
    "Implements a residual block as follows:\n",
    "\n",
    "![](figures/residualblock.png)\n",
    "\n",
    "where the first linear layer has `in_features=dim` and `out_features=hidden_dim`, and the last linear layer has `out_features=dim`. Returns the block as type `nn.Module`. \n",
    "\n",
    "##### Parameters\n",
    "- `dim` (*int*) - input dim\n",
    "- `hidden_dim` (*int*) - hidden dim\n",
    "- `norm` (*nn.Module*) - normalization method\n",
    "- `drop_prob` (*float*) - dropout probability\n",
    "\n",
    "___\n",
    "\n",
    "### MLPResNet\n",
    "`MLPResNet(dim, hidden_dim=100, num_blocks=3, num_classes=10, norm=nn.BatchNorm1d, drop_prob=0.1)`\n",
    "\n",
    "Implements an MLP ResNet as follows:\n",
    "\n",
    "![](figures/mlp_resnet.png)\n",
    "\n",
    "where the first linear layer has `in_features=dim` and `out_features=hidden_dim`, and each ResidualBlock has `dim=hidden_dim` and `hidden_dim=hidden_dim//2`. Returns a network of type `nn.Module`.\n",
    "\n",
    "##### Parameters\n",
    "- `dim` (*int*) - input dim\n",
    "- `hidden_dim` (*int*) - hidden dim\n",
    "- `num_blocks` (*int*) - number of ResidualBlocks\n",
    "- `num_classes` (*int*) - number of classes\n",
    "- `norm` (*nn.Module*) - normalization method\n",
    "- `drop_prob` (*float*) - dropout probability (0.1)\n",
    "___ \n",
    "\n",
    "Once you have the deep learning model architecture correct, let's train the network using our new neural network library components. Specifically, implement the functions `epoch` and `train_mnist`.\n",
    "\n",
    "### Epoch\n",
    "\n",
    "`epoch(dataloader, model, opt=None)`\n",
    "\n",
    "Executes one epoch of training or evaluation, iterating over the entire training dataset once (just like `nn_epoch` from previous homeworks). Returns the average error rate **(changed from accuracy)** (as a *float*) and the average loss over all samples (as a *float*). Set the model to `training` mode at the beginning of the function if `opt` is given; set the model to `eval` if `opt` is not given (i.e. `None`).\n",
    "\n",
    "##### Parameters\n",
    "- `dataloader` (*`needle.data.DataLoader`*) - dataloader returning samples from the training dataset\n",
    "- `model` (*`needle.nn.Module`*) - neural network\n",
    "- `opt` (*`needle.optim.Optimizer`*) - optimizer instance, or `None`\n",
    "\n",
    "___\n",
    "\n",
    "### Train Mnist\n",
    "\n",
    "`train_mnist(batch_size=100, epochs=10, optimizer=ndl.optim.Adam, lr=0.001, weight_decay=0.001, hidden_dim=100, data_dir=\"data\")`\n",
    "                \n",
    "Initializes a training dataloader (with `shuffle` set to `True`) and a test dataloader for MNIST data, and trains an `MLPResNet` using the given optimizer (if `opt` is not None) and the softmax loss for a given number of epochs. Returns a tuple of the training accuracy, training loss, test accuracy, test loss computed in the last epoch of training. If any parameters are not specified, use the default parameters.\n",
    "\n",
    "##### Parameters\n",
    "- `batch_size` (*int*) - batch size to use for train and test dataloader\n",
    "- `epochs` (*int*) - number of epochs to train for\n",
    "- `optimizer` (*`needle.optim.Optimizer` type*) - optimizer type to use\n",
    "- `lr` (*float*) - learning rate \n",
    "- `weight_decay` (*float*) - weight decay\n",
    "- `hidden_dim` (*int*) - hidden dim for `MLPResNet`\n",
    "- `data_dir` (*int*) - directory containing MNIST image/label files\n"
   ]
  },
  {
   "cell_type": "markdown",
   "metadata": {},
   "source": [
    "#### Debug"
   ]
  },
  {
   "cell_type": "code",
   "execution_count": null,
   "metadata": {},
   "outputs": [],
   "source": [
    "import apps.mlp_resnet"
   ]
  },
  {
   "cell_type": "code",
   "execution_count": null,
   "metadata": {},
   "outputs": [],
   "source": [
    "def num_params(model):\n",
    "    return np.sum([np.prod(x.shape) for x in model.parameters()])\n",
    "\n",
    "def residual_block_num_params(dim, hidden_dim, norm):\n",
    "    model = apps.mlp_resnet.ResidualBlock(dim, hidden_dim, norm)\n",
    "    return np.array(num_params(model))\n",
    "\n",
    "def mlp_resnet_num_params(dim, hidden_dim, num_blocks, num_classes, norm):\n",
    "    model = apps.mlp_resnet.MLPResNet(dim, hidden_dim, num_blocks, num_classes, norm)\n",
    "    return np.array(num_params(model))"
   ]
  },
  {
   "cell_type": "code",
   "execution_count": null,
   "metadata": {},
   "outputs": [],
   "source": [
    "def train_epoch_1(hidden_dim, batch_size, optimizer, **kwargs):\n",
    "    np.random.seed(1)\n",
    "    train_dataset = ndl.data.MNISTDataset(\\\n",
    "            \"./data/train-images-idx3-ubyte.gz\",\n",
    "            \"./data/train-labels-idx1-ubyte.gz\")\n",
    "    train_dataloader = ndl.data.DataLoader(\\\n",
    "             dataset=train_dataset,\n",
    "             batch_size=batch_size)\n",
    "\n",
    "    model = apps.mlp_resnet.MLPResNet(784, hidden_dim)\n",
    "    opt = optimizer(model.parameters(), **kwargs)\n",
    "    model.eval()\n",
    "    return np.array(apps.mlp_resnet.epoch(train_dataloader, model, opt))"
   ]
  },
  {
   "cell_type": "code",
   "execution_count": null,
   "metadata": {},
   "outputs": [],
   "source": [
    "np.argmax(np.array([[0,1,0,5,2], [3,2,1,0,-2]]), axis=1)"
   ]
  },
  {
   "cell_type": "code",
   "execution_count": null,
   "metadata": {},
   "outputs": [],
   "source": [
    "a = [3,5,0,2]\n",
    "b = [3,4,0,2]\n",
    "np.equal(a, b)"
   ]
  },
  {
   "cell_type": "code",
   "execution_count": null,
   "metadata": {},
   "outputs": [],
   "source": [
    "np.array([True, False, False, True, False]).sum()"
   ]
  },
  {
   "cell_type": "code",
   "execution_count": null,
   "metadata": {},
   "outputs": [],
   "source": [
    "train_epoch_1(5, 250, ndl.optim.Adam, lr=0.01, weight_decay=0.1)"
   ]
  },
  {
   "cell_type": "code",
   "execution_count": null,
   "metadata": {},
   "outputs": [],
   "source": [
    "np.testing.assert_allclose(train_epoch_1(5, 250, ndl.optim.Adam, lr=0.01, weight_decay=0.1),\n",
    "        np.array([0.675267, 1.84043]), rtol=0.0001, atol=0.0001)"
   ]
  },
  {
   "cell_type": "code",
   "execution_count": null,
   "metadata": {},
   "outputs": [],
   "source": [
    "def eval_epoch_1(hidden_dim, batch_size):\n",
    "    np.random.seed(1)\n",
    "    test_dataset = ndl.data.MNISTDataset(\\\n",
    "            \"./data/t10k-images-idx3-ubyte.gz\",\n",
    "            \"./data/t10k-labels-idx1-ubyte.gz\")\n",
    "    test_dataloader = ndl.data.DataLoader(\\\n",
    "             dataset=test_dataset,\n",
    "             batch_size=batch_size,\n",
    "             shuffle=False)\n",
    "\n",
    "    model = apps.mlp_resnet.MLPResNet(784, hidden_dim)\n",
    "    model.train()\n",
    "    return np.array(apps.mlp_resnet.epoch(test_dataloader, model))"
   ]
  },
  {
   "cell_type": "code",
   "execution_count": null,
   "metadata": {},
   "outputs": [],
   "source": [
    "eval_epoch_1(10, 150)"
   ]
  },
  {
   "cell_type": "code",
   "execution_count": null,
   "metadata": {},
   "outputs": [],
   "source": [
    "def test_mlp_eval_epoch_1():\n",
    "    np.testing.assert_allclose(eval_epoch_1(10, 150),\n",
    "        np.array([0.9164 , 4.137814]), rtol=1e-5, atol=1e-5)"
   ]
  },
  {
   "cell_type": "code",
   "execution_count": null,
   "metadata": {},
   "outputs": [],
   "source": []
  },
  {
   "cell_type": "code",
   "execution_count": null,
   "metadata": {},
   "outputs": [],
   "source": [
    "def train_mnist_1(batch_size, epochs, optimizer, lr, weight_decay, hidden_dim):\n",
    "    np.random.seed(1)\n",
    "    out = apps.mlp_resnet.train_mnist(batch_size, epochs, optimizer, lr, weight_decay, hidden_dim, data_dir=\"./data\")\n",
    "    return np.array(out)"
   ]
  },
  {
   "cell_type": "code",
   "execution_count": null,
   "metadata": {},
   "outputs": [],
   "source": [
    "train_mnist_1(250, 2, ndl.optim.SGD, 0.001, 0.01, 100)"
   ]
  },
  {
   "cell_type": "code",
   "execution_count": null,
   "metadata": {},
   "outputs": [],
   "source": [
    "np.testing.assert_allclose(train_mnist_1(250, 2, ndl.optim.SGD, 0.001, 0.01, 100),\n",
    "            np.array([0.4875 , 1.462595, 0.3245 , 1.049429]), rtol=0.001, atol=0.001)"
   ]
  },
  {
   "cell_type": "markdown",
   "metadata": {},
   "source": [
    "#### Test"
   ]
  },
  {
   "cell_type": "code",
   "execution_count": null,
   "metadata": {},
   "outputs": [],
   "source": [
    "!python3 -m pytest -v -k \"test_mlp\""
   ]
  },
  {
   "cell_type": "code",
   "execution_count": null,
   "metadata": {},
   "outputs": [],
   "source": [
    "!python -m mugrade submit $MUGRADER_GRADE_KEY -k \"mlp_resnet\""
   ]
  },
  {
   "cell_type": "markdown",
   "metadata": {},
   "source": [
    "We encourage to experiment with the `mlp_resnet.py` training script.\n",
    "You can investigate the effect of using different initializers on the Linear layers,\n",
    "increasing the dropout probability,\n",
    "or adding transforms (via a list to the `transforms=` keyword argument of Dataset)\n",
    "such as random cropping."
   ]
  }
 ],
 "metadata": {
  "kernelspec": {
   "display_name": "Python 3.9.13 ('codeserver_py39')",
   "language": "python",
   "name": "python3"
  },
  "language_info": {
   "codemirror_mode": {
    "name": "ipython",
    "version": 3
   },
   "file_extension": ".py",
   "mimetype": "text/x-python",
   "name": "python",
   "nbconvert_exporter": "python",
   "pygments_lexer": "ipython3",
   "version": "3.9.13"
  },
  "vscode": {
   "interpreter": {
    "hash": "aca522a4f3a95a8cc19c0c49aa2b52717208ab4d9caac282bf163cf809ab5536"
   }
  }
 },
 "nbformat": 4,
 "nbformat_minor": 4
}
